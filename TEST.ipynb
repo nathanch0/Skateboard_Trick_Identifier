{
 "cells": [
  {
   "cell_type": "code",
   "execution_count": 23,
   "metadata": {
    "collapsed": true
   },
   "outputs": [],
   "source": [
    "%matplotlib inline\n",
    "import os\n",
    "import re\n",
    "import tensorflow as tf\n",
    "import tensorflow.python.platform\n",
    "from tensorflow.python.platform import gfile\n",
    "import numpy as np\n",
    "import pandas as pd\n",
    "import matplotlib.pyplot as plt\n",
    "import pickle"
   ]
  },
  {
   "cell_type": "code",
   "execution_count": 61,
   "metadata": {},
   "outputs": [],
   "source": [
    "def images_list(image_directory):\n",
    "    image_list = [image_directory+f for f in os.listdir(image_directory) if re.search('jpg|JPG', f)]\n",
    "    return image_list\n",
    "\n",
    "def create_graph():\n",
    "    # Creates a tensor graph in the specified directory\n",
    "    model_dir = 'imagenet'\n",
    "    with gfile.FastGFile(os.path.join(model_dir,\n",
    "                    'classify_image_graph_def.pb'), 'rb') as f:\n",
    "        graph_def = tf.GraphDef()\n",
    "        graph_def.ParseFromString(f.read())\n",
    "        _ = tf.import_graph_def(graph_def, name='')\n",
    "\n",
    "def extraction(list_images):\n",
    "    \"\"\"\n",
    "    Take a list of image file paths, and return features.\n",
    "    \"\"\"\n",
    "    nb_features = 2048\n",
    "    features = np.empty((len(list_images),nb_features))\n",
    "    labels = []\n",
    "\n",
    "    create_graph()\n",
    "\n",
    "    with tf.Session() as sess:\n",
    "\n",
    "        next_to_last_tensor = sess.graph.get_tensor_by_name('pool_3:0')\n",
    "\n",
    "    for ind, image in enumerate(list_images):\n",
    "        if (ind%100 == 0):\n",
    "            print('Processing %s...' % (image))\n",
    "        if not gfile.Exists(image):\n",
    "            tf.logging.fatal('File does not exist %s', image)\n",
    "\n",
    "    image_data = gfile.FastGFile(image, 'rb').read()\n",
    "\n",
    "    predictions = sess.run(next_to_last_tensor,\n",
    "                        {'DecodeJpeg/contents:0': image_data})\n",
    "\n",
    "    features[ind,:] = np.squeeze(predictions)\n",
    "    \n",
    "    labels.append(re.split('_\\d+',image.split('/')[1])[0])\n",
    "\n",
    "    return features, labels\n"
   ]
  },
  {
   "cell_type": "code",
   "execution_count": 47,
   "metadata": {},
   "outputs": [],
   "source": [
    "image_list = images_list('Capstone_photo/Random/')"
   ]
  },
  {
   "cell_type": "code",
   "execution_count": 49,
   "metadata": {},
   "outputs": [
    {
     "name": "stdout",
     "output_type": "stream",
     "text": [
      "Processing Capstone_photo/Random/IMG_9071.JPG...\n"
     ]
    }
   ],
   "source": [
    "random_images = extraction(image_list)"
   ]
  },
  {
   "cell_type": "code",
   "execution_count": 55,
   "metadata": {},
   "outputs": [
    {
     "data": {
      "image/png": "[encoded data removed]",
      "text/plain": [
       "<matplotlib.figure.Figure at 0x14a5ce550>"
      ]
     },
     "metadata": {},
     "output_type": "display_data"
    }
   ],
   "source": [
    "x = np.arange(1,2048)\n",
    "fig, axes = plt.subplots(2,4)\n",
    "\n",
    "for ax, i in zip(axes.flatten(),range(len(random_images))):\n",
    "    ax.hist(random_images[i])\n",
    "\n",
    "plt.suptitle('Features of Images',fontsize=16)\n",
    "plt.tight_layout()"
   ]
  },
  {
   "cell_type": "code",
   "execution_count": 62,
   "metadata": {},
   "outputs": [],
   "source": [
    "kickflip = images_list('Capstone_photo/Kickflip/')"
   ]
  },
  {
   "cell_type": "code",
   "execution_count": 64,
   "metadata": {},
   "outputs": [
    {
     "name": "stdout",
     "output_type": "stream",
     "text": [
      "Processing Capstone_photo/Kickflip/IMG_1816.jpg...\n",
      "Processing Capstone_photo/Kickflip/IMG_1918.jpg...\n",
      "Processing Capstone_photo/Kickflip/IMG_2117.jpg...\n",
      "Processing Capstone_photo/Kickflip/IMG_9145.jpg...\n",
      "Processing Capstone_photo/Kickflip/IMG_9247.jpg...\n",
      "Processing Capstone_photo/Kickflip/IMG_9444.jpg...\n"
     ]
    }
   ],
   "source": [
    "feature, label = extraction(kickflip)"
   ]
  },
  {
   "cell_type": "code",
   "execution_count": 67,
   "metadata": {},
   "outputs": [
    {
     "data": {
      "text/plain": [
       "['Kickflip']"
      ]
     },
     "execution_count": 67,
     "metadata": {},
     "output_type": "execute_result"
    }
   ],
   "source": [
    "label"
   ]
  },
  {
   "cell_type": "code",
   "execution_count": 69,
   "metadata": {},
   "outputs": [],
   "source": [
    "kick_label = label * 2048"
   ]
  },
  {
   "cell_type": "code",
   "execution_count": null,
   "metadata": {
    "collapsed": true
   },
   "outputs": [],
   "source": []
  }
 ],
 "metadata": {
  "kernelspec": {
   "display_name": "Python 3",
   "language": "python",
   "name": "python3"
  },
  "language_info": {
   "codemirror_mode": {
    "name": "ipython",
    "version": 3
   },
   "file_extension": ".py",
   "mimetype": "text/x-python",
   "name": "python",
   "nbconvert_exporter": "python",
   "pygments_lexer": "ipython3",
   "version": "3.6.1"
  }
 },
 "nbformat": 4,
 "nbformat_minor": 2
}
