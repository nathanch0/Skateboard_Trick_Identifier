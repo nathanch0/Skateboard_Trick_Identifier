{
 "cells": [
  {
   "cell_type": "code",
   "execution_count": 7,
   "metadata": {},
   "outputs": [],
   "source": [
    "%matplotlib inline\n",
    "import matplotlib.pyplot as plt\n",
    "import tensorflow as tf\n",
    "import numpy as np\n",
    "import pandas as pd\n",
    "\n",
    "plt.style.use('ggplot')"
   ]
  },
  {
   "cell_type": "code",
   "execution_count": 8,
   "metadata": {},
   "outputs": [],
   "source": [
    "# Set up our tensorflow session.\n",
    "sess = tf.InteractiveSession()"
   ]
  },
  {
   "cell_type": "code",
   "execution_count": 9,
   "metadata": {
    "collapsed": true
   },
   "outputs": [],
   "source": [
    "flowers_path = \"data/jpg\""
   ]
  },
  {
   "cell_type": "code",
   "execution_count": 10,
   "metadata": {},
   "outputs": [],
   "source": [
    "# The number of flower images:\n",
    "n_flower_images = 1195\n",
    "\n",
    "# The format specification here left pads zeros on the number: 0004.\n",
    "flower_filenames = [flowers_path + '/image_{:04d}.jpg'.format(i)\n",
    "                    for i in range(1, n_flower_images + 1)]\n",
    "\n",
    "# Create a queue of files to read in, a reader object, and \n",
    "# then consume the files with the reader.\n",
    "filename_queue = tf.train.string_input_producer(flower_filenames)\n",
    "reader = tf.WholeFileReader()\n",
    "\n",
    "flower_images_list = []\n",
    "for _ in range(1195):\n",
    "    key, value = reader.read(filename_queue)\n",
    "    # Each image is a jpg, so we need to decode the raw bytes.\n",
    "    # channels = 3 creates a 3-tensor with RGB channels.\n",
    "    flower_image = tf.image.decode_jpeg(value, channels=3)\n",
    "    flower_images_list.append(flower_image)\n",
    "    \n",
    "flower_images = tf.stack(flower_images_list, axis=0)"
   ]
  },
  {
   "cell_type": "code",
   "execution_count": 11,
   "metadata": {},
   "outputs": [],
   "source": [
    "tf.global_variables_initializer().run()\n",
    "\n",
    "# Start populating the filename queue.\n",
    "coord1 = tf.train.Coordinator()\n",
    "threads1 = tf.train.start_queue_runners(coord=coord1)\n",
    "\n",
    "coord1.request_stop()\n",
    "coord1.join(threads1)"
   ]
  },
  {
   "cell_type": "code",
   "execution_count": null,
   "metadata": {},
   "outputs": [],
   "source": [
    "print(flower_images[0].eval().shape)"
   ]
  },
  {
   "cell_type": "code",
   "execution_count": null,
   "metadata": {
    "collapsed": true
   },
   "outputs": [],
   "source": []
  }
 ],
 "metadata": {
  "kernelspec": {
   "display_name": "Python 3",
   "language": "python",
   "name": "python3"
  },
  "language_info": {
   "codemirror_mode": {
    "name": "ipython",
    "version": 3
   },
   "file_extension": ".py",
   "mimetype": "text/x-python",
   "name": "python",
   "nbconvert_exporter": "python",
   "pygments_lexer": "ipython3",
   "version": "3.6.1"
  }
 },
 "nbformat": 4,
 "nbformat_minor": 2
}
