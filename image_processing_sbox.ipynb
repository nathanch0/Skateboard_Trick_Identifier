{
 "cells": [
  {
   "cell_type": "code",
   "execution_count": 54,
   "metadata": {
    "collapsed": true
   },
   "outputs": [],
   "source": [
    "from PIL import Image"
   ]
  },
  {
   "cell_type": "code",
   "execution_count": 2,
   "metadata": {
    "collapsed": true
   },
   "outputs": [],
   "source": [
    "image = Image.open(\"Capstone_photo/Random/IMG_9071.JPG\")"
   ]
  },
  {
   "cell_type": "code",
   "execution_count": 3,
   "metadata": {},
   "outputs": [
    {
     "name": "stdout",
     "output_type": "stream",
     "text": [
      "JPEG\n"
     ]
    }
   ],
   "source": [
    "print(image.format)"
   ]
  },
  {
   "cell_type": "code",
   "execution_count": 4,
   "metadata": {},
   "outputs": [
    {
     "name": "stdout",
     "output_type": "stream",
     "text": [
      "(2256, 1504)\n"
     ]
    }
   ],
   "source": [
    "print(image.size)"
   ]
  },
  {
   "cell_type": "code",
   "execution_count": 5,
   "metadata": {
    "collapsed": true
   },
   "outputs": [],
   "source": [
    "new_image = image.resize((299,299))"
   ]
  },
  {
   "cell_type": "code",
   "execution_count": 6,
   "metadata": {
    "collapsed": true
   },
   "outputs": [],
   "source": [
    "new_image.show()"
   ]
  },
  {
   "cell_type": "code",
   "execution_count": 29,
   "metadata": {},
   "outputs": [
    {
     "name": "stdout",
     "output_type": "stream",
     "text": [
      "(2256, 1504)\n"
     ]
    }
   ],
   "source": [
    "print(image.size)"
   ]
  },
  {
   "cell_type": "code",
   "execution_count": 9,
   "metadata": {
    "collapsed": true
   },
   "outputs": [],
   "source": [
    "rotate_image = new_image.rotate(45)"
   ]
  },
  {
   "cell_type": "code",
   "execution_count": 10,
   "metadata": {
    "collapsed": true
   },
   "outputs": [],
   "source": [
    "rotate_image.show()"
   ]
  },
  {
   "cell_type": "code",
   "execution_count": 34,
   "metadata": {
    "collapsed": true
   },
   "outputs": [],
   "source": [
    "new_image.save('IMG_9071' + '_new' + '.jpg')"
   ]
  },
  {
   "cell_type": "code",
   "execution_count": 35,
   "metadata": {
    "collapsed": true
   },
   "outputs": [],
   "source": [
    "new_image.save('train_photos/ollie_processed/IMG_9071' + '_new' + '.jpg')"
   ]
  },
  {
   "cell_type": "code",
   "execution_count": 39,
   "metadata": {
    "collapsed": true
   },
   "outputs": [],
   "source": [
    "x = [1]"
   ]
  },
  {
   "cell_type": "code",
   "execution_count": 40,
   "metadata": {},
   "outputs": [
    {
     "data": {
      "text/plain": [
       "list"
      ]
     },
     "execution_count": 40,
     "metadata": {},
     "output_type": "execute_result"
    }
   ],
   "source": [
    "type(x)"
   ]
  },
  {
   "cell_type": "code",
   "execution_count": 14,
   "metadata": {
    "collapsed": true
   },
   "outputs": [],
   "source": [
    "color_image = new_image.convert('L')\n",
    "color_image.show()"
   ]
  },
  {
   "cell_type": "code",
   "execution_count": 18,
   "metadata": {
    "collapsed": true
   },
   "outputs": [],
   "source": [
    "image.thumbnail((299,299))"
   ]
  },
  {
   "cell_type": "code",
   "execution_count": 21,
   "metadata": {
    "collapsed": true
   },
   "outputs": [],
   "source": [
    "image.show()"
   ]
  },
  {
   "cell_type": "code",
   "execution_count": 78,
   "metadata": {
    "collapsed": true
   },
   "outputs": [],
   "source": [
    "\"\"\"\n",
    "This helper function will re-size and preprocess a list of photos to be used\n",
    "in the training set of the data\n",
    "\"\"\"\n",
    "\n",
    "def image_resize(image_list, mode='resize'):\n",
    "    \"\"\"\n",
    "    This will resize an image in the list, and save it in a new location\n",
    "\n",
    "    Args:\n",
    "        image_list == List of image paths\n",
    "        mode == Do you want to process it differently?\n",
    "                resize: Resizes the image to 299x299\n",
    "                distort: Makes images black and white\n",
    "                rotate: Rotates images 45 degrees\n",
    "    Return:\n",
    "        None\n",
    "    \"\"\"\n",
    "    if type(image_list) == dict:\n",
    "        if mode == 'resize':\n",
    "            for key, value in image_list.items():\n",
    "                for element in value:\n",
    "                    new_image = Image.open(element)\n",
    "                    new_image.thumbnail((299,299))\n",
    "                    if key == 'ollie':\n",
    "                        new_image.save('train_photos/ollie/new_' + element.split('/')[-1])\n",
    "                    elif key == 'kickflip':\n",
    "                        new_image.save('train_photos/kickflip/new_' + element.split('/')[-1])\n",
    "            print('All photos have been re-sized')\n",
    "\n",
    "        elif mode == 'distort':\n",
    "            for key, value in image_list.items():\n",
    "                for element in value:\n",
    "                    image = Image.open(element)\n",
    "                    #new_image = image.thumbnail((299,299))\n",
    "                    distorted = image.convert('L')\n",
    "                    if key == 'ollie':\n",
    "                        distorted.save('train_photos/ollie/color_' + element.split('/')[-1])\n",
    "                    elif key == 'kickflip':\n",
    "                        distorted.save('train_photos/kickflip/color_' + element.split('/')[-1])\n",
    "            print('All photos have been colored')\n",
    "\n",
    "        elif mode == 'rotate':\n",
    "            for key, value in image_list.items():\n",
    "                for element in value:\n",
    "                    image = Image.open(element)\n",
    "                    #new_image = image.thumbnail((299,299))\n",
    "                    rotated = image.rotate(45)\n",
    "                    if key == 'ollie':\n",
    "                        rotated.save('train_photos/ollie/rotate_' + element.split('/')[-1])\n",
    "                    elif key == 'kickflip':\n",
    "                        rotated.save('train_photos/kickflip/rotate_' + element.split('/')[-1])\n",
    "            print('All photos have been rotated')\n",
    "\n",
    "    elif type(image_list) == list and len(image_list) == 1:\n",
    "        new_image = Image.open(image_list[0])\n",
    "        new_image.thumbnail((299,299))\n",
    "        return list(new_image)\n"
   ]
  },
  {
   "cell_type": "code",
   "execution_count": 3,
   "metadata": {
    "collapsed": true
   },
   "outputs": [],
   "source": [
    "import src1.feature_extraction as feature"
   ]
  },
  {
   "cell_type": "code",
   "execution_count": 37,
   "metadata": {},
   "outputs": [
    {
     "name": "stdout",
     "output_type": "stream",
     "text": [
      "Looking for images in 'kickflip'\n",
      "Looking for images in 'ollie'\n"
     ]
    }
   ],
   "source": [
    "final_list = feature.image_list('project_photos/', type_input='dict')"
   ]
  },
  {
   "cell_type": "code",
   "execution_count": 72,
   "metadata": {
    "scrolled": true
   },
   "outputs": [
    {
     "name": "stdout",
     "output_type": "stream",
     "text": [
      "Looking for images in 'kickflip'\n",
      "Looking for images in 'ollie'\n"
     ]
    }
   ],
   "source": [
    "resized_list = feature.image_list('train_photos/', type_input='dict')"
   ]
  },
  {
   "cell_type": "code",
   "execution_count": 79,
   "metadata": {},
   "outputs": [
    {
     "name": "stdout",
     "output_type": "stream",
     "text": [
      "All photos have been re-sized\n"
     ]
    }
   ],
   "source": [
    "image_resize(final_list)"
   ]
  },
  {
   "cell_type": "code",
   "execution_count": 80,
   "metadata": {},
   "outputs": [
    {
     "name": "stdout",
     "output_type": "stream",
     "text": [
      "All photos have been colored\n"
     ]
    }
   ],
   "source": [
    "image_resize(resized_list, mode='distort')"
   ]
  },
  {
   "cell_type": "code",
   "execution_count": 81,
   "metadata": {},
   "outputs": [
    {
     "name": "stdout",
     "output_type": "stream",
     "text": [
      "All photos have been rotated\n"
     ]
    }
   ],
   "source": [
    "image_resize(resized_list, mode='rotate')"
   ]
  },
  {
   "cell_type": "code",
   "execution_count": null,
   "metadata": {
    "collapsed": true
   },
   "outputs": [],
   "source": []
  }
 ],
 "metadata": {
  "kernelspec": {
   "display_name": "Python 3",
   "language": "python",
   "name": "python3"
  },
  "language_info": {
   "codemirror_mode": {
    "name": "ipython",
    "version": 3
   },
   "file_extension": ".py",
   "mimetype": "text/x-python",
   "name": "python",
   "nbconvert_exporter": "python",
   "pygments_lexer": "ipython3",
   "version": "3.6.1"
  }
 },
 "nbformat": 4,
 "nbformat_minor": 2
}
